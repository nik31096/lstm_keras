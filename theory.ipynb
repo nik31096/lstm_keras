{
 "cells": [
  {
   "cell_type": "markdown",
   "metadata": {},
   "source": [
    "##### 1) Sigmoid derivative\n",
    "$$ \\sigma'(z) = \\frac{d \\sigma(z)}{dz} = \\frac{d}{d z} \\frac{1}{1 + e^{-z}} \n",
    "   = \\frac{e^{-z}}{(1 + e^{-z})^{2}} = \\frac{1 + e^{-z} - 1}{(1 + e^{-z})^{2}} = $$\n",
    "$$ = \\frac{1}{1 + e^{-z}} - \\frac{1^{2}}{(1 + e^{-z})^{2}} = \\sigma(z) - \\sigma^2(z)\n",
    "   = \\sigma(z)(1 - \\sigma(z)) $$"
   ]
  },
  {
   "cell_type": "markdown",
   "metadata": {},
   "source": [
    "##### 2) Prove, that $ \\sigma(-z) = 1 - \\sigma(z) $\n",
    "$$ \\sigma(-z) + \\sigma(z) = \\frac{1}{1 + e^z} + \\frac{1}{1 + e^{-z}} = \\frac{2 + e^{z} + e^{-z}}{2 + e^z + e^{-z}} = 1 $$"
   ]
  },
  {
   "cell_type": "markdown",
   "metadata": {},
   "source": [
    "##### 3) Calculate the loss function derivative:\n",
    "$$ L(w, x_1,..., x_N) = -\\frac{1}{N}\\sum_{i=1}^N [y_i\\ log(\\sigma(w^Tx_i)) + \n",
    "   (1-y_i)\\ log(1-\\sigma(w^Tx_i))] + \\alpha\\sum_{j=1}^M w_j^2 $$\n",
    "$$ \\nabla_w L(w, X) = \\frac{1}{N} \\sum_{i=1}^N y_i\\frac{1}{\\sigma(w^Tx_i)} \\sigma(w^Tx_i) (1 - \\sigma(w^Tx_i))\\ x_i - $$ $$ - (1-y_i) \\frac{1}{1 - \\sigma(w^Tx_i)}\\sigma(w^Tx_i) (1 - \\sigma(w^Tx_i))\\ x_i + 2\\alpha w = $$ \n",
    "$$ = \\frac{1}{N} \\sum_{i=1}^N x_i\\ (\\sigma(w^Tx_i) - y_i) + 2\\alpha w , $$ where $x_i$ - is i-th object from training set\n"
   ]
  },
  {
   "cell_type": "markdown",
   "metadata": {},
   "source": [
    "##### 4) Weights update rule\n",
    "Take a step in direction, opposite to the direction of the gradient $ \\nabla_w L $:\n",
    "$$ w_{n+1} = w_n - \\gamma \\nabla_w L$$"
   ]
  },
  {
   "cell_type": "markdown",
   "metadata": {},
   "source": [
    "##### 5) Proof of loss convexity\n",
    "Sufficient conditions for convexity of a function: <br/>\n",
    "If $f''(x) \\ge 0$ for any $х$ from $[a, b]$, then $f(x)$ - is convex function on $[a, b]$.\n",
    "<br/>\n",
    "So, the calculation of the second derivative of the loss function gives us formula:\n",
    "$$ \\nabla_w \\nabla_w L = 2\\alpha + \\frac{1}{N} \\sum_{i=1}^N x_i\\ x_i (\\sigma - \\sigma^2) \\ge 0, $$\n",
    "where $x_i$ - is i-th object from training set.\n",
    "The second derivation w.r.t. $w$ is always great or equal than zero thus $ \\sigma - \\sigma^2 \\ge 0$ bacause $\\sigma(x) \\le 1$ for any $x$. "
   ]
  },
  {
   "cell_type": "code",
   "execution_count": 8,
   "metadata": {},
   "outputs": [
    {
     "data": {
      "image/png": "[encoded data removed]",
      "text/plain": [
       "<Figure size 432x288 with 1 Axes>"
      ]
     },
     "metadata": {},
     "output_type": "display_data"
    }
   ],
   "source": [
    "from matplotlib import pyplot as plt\n",
    "from numpy import linspace\n",
    "X = linspace(0, 1, 200)\n",
    "plt.plot(X, (lambda x: x)(X), X, (lambda x: x**2)(X))\n",
    "plt.show()"
   ]
  }
 ],
 "metadata": {
  "kernelspec": {
   "display_name": "Python 3",
   "language": "python",
   "name": "python3"
  },
  "language_info": {
   "codemirror_mode": {
    "name": "ipython",
    "version": 3
   },
   "file_extension": ".py",
   "mimetype": "text/x-python",
   "name": "python",
   "nbconvert_exporter": "python",
   "pygments_lexer": "ipython3",
   "version": "3.6.5"
  }
 },
 "nbformat": 4,
 "nbformat_minor": 2
}
