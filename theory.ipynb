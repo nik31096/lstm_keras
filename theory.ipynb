{
 "cells": [
  {
   "cell_type": "markdown",
   "metadata": {},
   "source": [
    "##### 1) Производная сигмоиды \n",
    "$$ \\sigma'(z) = \\frac{d \\sigma(z)}{dz} = \\frac{d}{d z} \\frac{1}{1 + e^{-z}} \n",
    "   = \\frac{e^{-z}}{(1 + e^{-z})^{2}} = \\frac{1 + e^{-z} - 1}{(1 + e^{-z})^{2}} = $$\n",
    "   $$ = \\frac{1}{1 + e^{-z}} - \\frac{1^{2}}{(1 + e^{-z})^{2}} = \\sigma(z) - \\sigma^2(z)\n",
    "   = \\sigma(z)(1 - \\sigma(z)) $$"
   ]
  },
  {
   "cell_type": "markdown",
   "metadata": {},
   "source": [
    "##### 2) Доказать, что $ \\sigma(-z) = 1 - \\sigma(z) $\n",
    "$$ \\sigma(-z) + \\sigma(z) = \\frac{1}{1 + e^z} + \\frac{1}{1 + e^{-z}} \n",
    "       = \\frac{1 + e^z + 1 + e^{-z}}{(1 + e^z)(1 + e^{-z})} = 1\n",
    "    $$"
   ]
  },
  {
   "cell_type": "markdown",
   "metadata": {},
   "source": [
    "##### 3) Посчитать градиент loss-функции:\n",
    "$$ L(w, x_1,..., x_N) = -\\frac{1}{N}\\sum_{i=1}^N [y_i\\ log(\\sigma(w^Tx_i)) + \n",
    "   (1-y_i)\\ log(1-\\sigma(w^Tx_i))] + \\alpha\\sum_{j=1}^M w_j^2 $$\n",
    "$$ \\nabla_w L(w, X) = \\frac{1}{N} \\sum_{i=1}^N y_i\\frac{1}{\\sigma(w^Tx_i)} \\sigma(w^Tx_i) (1 - \\sigma(w^Tx_i))\\ x_i - (1-y_i) \\frac{1}{1 - \\sigma(w^Tx_i)}\\sigma(w^Tx_i) (1 - \\sigma(w^Tx_i))\\ x_i + 2\\alpha w = $$ \n",
    "$$ = \\frac{1}{N} \\sum_{i=1}^N x_i\\ (\\sigma(w^Tx_i) - y_i) + 2\\alpha w , $$ где $x_i$ - вектор i-ого объекта из обучающей выборки\n"
   ]
  },
  {
   "cell_type": "markdown",
   "metadata": {},
   "source": [
    "##### 4) Формула обновления весов\n",
    "$$ w_{n+1} = w_n - \\gamma \\nabla_w L$$"
   ]
  },
  {
   "cell_type": "markdown",
   "metadata": {},
   "source": [
    "##### 5) Доказательство выпуклости loss-функции\n",
    "Достаточные условия выпуклости функции:\n",
    "Если $f''(x) \\ge 0$ при любом $х$ из $[a, b]$, то $f(x)$ - выпуклая на $[a, b]$ функция.\n",
    "$$ \\nabla_w \\nabla_w L = 2\\alpha + \\frac{1}{N} \\sum_{i=1}^N x_i\\ x_i (\\sigma - \\sigma^2) \\ge 0$$"
   ]
  },
  {
   "cell_type": "code",
   "execution_count": null,
   "metadata": {},
   "outputs": [],
   "source": []
  }
 ],
 "metadata": {
  "kernelspec": {
   "display_name": "Python 3",
   "language": "python",
   "name": "python3"
  },
  "language_info": {
   "codemirror_mode": {
    "name": "ipython",
    "version": 3
   },
   "file_extension": ".py",
   "mimetype": "text/x-python",
   "name": "python",
   "nbconvert_exporter": "python",
   "pygments_lexer": "ipython3",
   "version": "3.6.5"
  }
 },
 "nbformat": 4,
 "nbformat_minor": 2
}
