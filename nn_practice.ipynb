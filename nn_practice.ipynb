{
 "cells": [
  {
   "cell_type": "markdown",
   "metadata": {},
   "source": [
    "### B.2\n",
    "10 random words: 'break-of-gauge', 'installations', 'lashkar', 'munt', 'oceanarium', 'arraign', 'rand', 'modula-2', 'pit-houses', 'unintimidating'\n",
    "\n",
    "The most similar words are: <br/>\n",
    "`'break-of-gauge'`: 'chokepoint', 'malakpet', '5-way', 'city-centre', 'crossunder', '0-and-1', 'end-on', 'two-level', 'rapid-transit', 'mickleover', 'invite-only', 'single-file', 'station-keeping', 'u-shape', 'anti-pattern', 'point-to-point', 'löhne', 'norbiton', 'depolarizing', 'side-on', 'well-concealed', 'indiscrete', 'r-tree', '7:36', 'dual-track' <br/>\n",
    "`'installations'`: 'airfields', 'weaponry', 'installation', 'facilities', 'equipment', 'constructing', 'materials', 'infrastructure', 'destroying', 'targets', 'large-scale', 'bases', 'locations', 'capabilities', 'missiles', 'weapons', 'warplanes', 'operations', 'deployed', 'buildings', 'civilian', 'raids', 'terminals', 'aerial', 'deploying' <br/>\n",
    "`'lashkar'`: 'e-taiba', 'e-tayyaba', 'jaish', 'e-jhangvi', 'i-taiba', 'jemaah', 'e-mohammed', 'e-toiba', 'islamiyah', 'i-jhangvi', 'shebab', 'pkk', 'shabaab', 'jamaa', 'islamist', 'e-mohammad', 'ansar', 'shabab', 'militant', 'maghreb', 'hizb', 'qaeda', 'gia', 'islamiyya', 'harkat' <br/>\n",
    "`'munt'`: 'coche', 'bolla', 'bienveillantes', 'carrig', 'arenys', 'langenkamp', 'kachel', 'madrugada', 'bárcena', 'pagny', 'bonariensis', 'vasta', 'gripp', 'camarón', 'viuda', 'jonge', 'lepa', 'dehalogenase', 'smokie', 'elize', 'jerrel', 'pantothenic', 'epidemia', 'janerio', 'picq' <br/>\n",
    "`'oceanarium'`: 'fincantieri', 'beaubourg', 'aviary', 'senckenberg', 'dormition', 'storkyrkan', 'parnu', 'oceanliner', 'hurva', 'ghriba', 'alliston', 'kampo', 'over-65', 'vomeronasal', 'johnsville', 'sixth-largest', 'pysanka', 'trettel', 'bee-eater', 'sarabhai', 'cmn', 'hellbilly', 'megastore', 'taqueria', 'eataly' <br/>\n",
    "`'arraign'`: 'expell', 'resentence', 'outmuscle', 'accost', 'outgun', 'outfox', 'indentify', 'dispossess', 'reprove', 'outplay', 'victimise', 'exculpate', 'outjump', 'adjudge', 'embarass', 'manhandle', 'pounce', 'outwork', 'outwit', 'perjurers', 'gainsay', 'pursuade', 'suceed', 'waylay', 'entrap' <br/>\n",
    "`'rand'`: 'sterling', 'rupiah', 'dollar', 'rupees', 'ringgit', 'franc', 'shilling', 'rupee', 'dollars', 'baht', 'nz', 'rose', 'pound', 'naira', '1.65', 'francs', '1.7', 'bhp', 'rands', 'pence', '1.1', 'kwacha', 'indnsia', '1.5', 'krone' <br/>\n",
    "`'modula-2'`: 'modula-3', 'chano', 'nelon', 'passarelli', 'syrtos', 'gojri', 'magahi', 'country-western', 'huget', 'zazaki', 'malto', 'pushto', 'neuro-linguistic', 'zbyněk', 'gpib', 'bigazzi', 'polysynthetic', 'özgür', 'wiśniewski', 'clojure', 'vedin', 'rdio', 'bäckman', 'haxe', 'jónsson' <br/>\n",
    "`'pit-houses'`, '4,772', '2,776', '670s', '2,812', '3,291', 'datings', 'limekilns', '3,284', '2,926', 'inhumations', '2,964', 'wall-paintings', 'off-shoots', '3,194', '4,482', 'palimpsests', 'out-buildings', 'dipeptides', '3,384', 'single-deckers', 'tahirids', 'sacristies', 'bristols', '2,612', '3,728' <br/>\n",
    "`'unintimidating'`: 'nonthreatening', 'openhearted', 'unwelcoming', 'unadventurous', 'unironic', 'unchallenging', 'straight-forward', 'properous', 'good-humored', 'impactful', 'unsual', 'uninvolving', 'unthreatening', 'christmassy', 'harrowingly', 'deceivingly', 'unengaging', 'stingingly', 'incrementalist', 'inoffensive', 'quaffable', 'health-conscious', 'unromantic', 'non-threatening', 'artless'"
   ]
  },
  {
   "cell_type": "code",
   "execution_count": null,
   "metadata": {},
   "outputs": [],
   "source": []
  }
 ],
 "metadata": {
  "kernelspec": {
   "display_name": "Python 3",
   "language": "python",
   "name": "python3"
  },
  "language_info": {
   "codemirror_mode": {
    "name": "ipython",
    "version": 3
   },
   "file_extension": ".py",
   "mimetype": "text/x-python",
   "name": "python",
   "nbconvert_exporter": "python",
   "pygments_lexer": "ipython3",
   "version": "3.6.5"
  }
 },
 "nbformat": 4,
 "nbformat_minor": 2
}
